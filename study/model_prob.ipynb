{
 "cells": [
  {
   "cell_type": "code",
   "execution_count": 1,
   "metadata": {},
   "outputs": [],
   "source": [
    "import pandas as pd\n",
    "from matplotlib import pyplot as plt\n",
    "from IPython import display as d\n",
    "df = pd.read_csv(\"/Users/erenanbar/Desktop/internship_project/data/ticketData_vs_max_interference.csv\")\n",
    "df.drop('day', axis = 1, inplace = True)"
   ]
  },
  {
   "cell_type": "code",
   "execution_count": 2,
   "metadata": {},
   "outputs": [],
   "source": [
    "grouped = df.groupby(['interface','modelName','max_intf_score'])"
   ]
  },
  {
   "cell_type": "code",
   "execution_count": 3,
   "metadata": {},
   "outputs": [],
   "source": [
    "prob_df = pd.DataFrame(columns = ['interface','model','score','ticket_prob'])\n",
    "    "
   ]
  },
  {
   "cell_type": "code",
   "execution_count": 4,
   "metadata": {},
   "outputs": [],
   "source": [
    "for interface_model_score, data in grouped:\n",
    "    interface = interface_model_score[0]\n",
    "    model = interface_model_score[1]\n",
    "    score = interface_model_score[2]\n",
    "    ticket_prob = (data['ticket_size'].sum()/data['total_size'].sum())\n",
    "    row = [interface,model,score,ticket_prob]\n",
    "    prob_df.loc[len(prob_df)] = row"
   ]
  },
  {
   "cell_type": "code",
   "execution_count": 54,
   "metadata": {},
   "outputs": [
    {
     "name": "stdout",
     "output_type": "stream",
     "text": [
      "['Arcadyan eLife Connect C1AA' 'DLink ' 'DLink 1' 'DLink DIR-853/ET'\n",
      " 'DLink eth2.1' 'DLink eth3' 'DLink eth3.21' 'DLink eth3.24'\n",
      " 'DLink eth3.30' 'DLink ppp0' 'DLink pppoe' 'DLink static'\n",
      " 'ETISALAT-HG6244B' 'Etisalat-S3' 'Sercomm ETISALAT-HG6244B'\n",
      " 'Technicolor MediaAccess DGA4231' 'eLife Connect C1AA'\n",
      " 'etisalat_sercomm_s3_mtk_ccprpl']\n"
     ]
    }
   ],
   "source": [
    "models = prob_df['model'].unique()\n",
    "prob_grouped = prob_df.groupby(['interface','model'])\n",
    "print(models)"
   ]
  },
  {
   "cell_type": "code",
   "execution_count": 63,
   "metadata": {},
   "outputs": [
    {
     "data": {
      "image/png": "[encoded data removed]",
      "text/plain": [
       "<Figure size 640x480 with 1 Axes>"
      ]
     },
     "metadata": {},
     "output_type": "display_data"
    }
   ],
   "source": [
    "interface_model = (32,models[6])\n",
    "\n",
    "score_column = prob_grouped.get_group((interface_model[0],interface_model[1]))['score']\n",
    "prob_column = prob_grouped.get_group((interface_model[0],interface_model[1])) ['ticket_prob']\n",
    "plt.plot(score_column,prob_column,label='ticket_prob')\n",
    "plt.xlabel('intf_score')\n",
    "plt.ylabel('prob')\n",
    "plt.title('interface: ' + str(interface_model[0]) + ' Model name: ' + interface_model[1] )\n",
    "plt.legend()\n",
    "plt.show()\n",
    "\n",
    "axis = plt.subplots(4, 5)\n",
    "  \n",
    "# For Sine Function\n",
    "axis[0, 0].plot(X, Y1)\n",
    "axis[0, 0].set_title(\"Sine Function\")\n",
    "  \n",
    "# For Cosine Function\n",
    "axis[0, 1].plot(X, Y2)\n",
    "axis[0, 1].set_title(\"Cosine Function\")\n",
    "  \n",
    "# For Tangent Function\n",
    "axis[1, 0].plot(X, Y3)\n",
    "axis[1, 0].set_title(\"Tangent Function\")\n",
    "  \n",
    "# For Tanh Function\n",
    "axis[1, 1].plot(X, Y4)\n",
    "axis[1, 1].set_title(\"Tanh Function\")\n"
   ]
  },
  {
   "cell_type": "code",
   "execution_count": null,
   "metadata": {},
   "outputs": [],
   "source": []
  },
  {
   "cell_type": "code",
   "execution_count": null,
   "metadata": {},
   "outputs": [],
   "source": []
  },
  {
   "cell_type": "code",
   "execution_count": null,
   "metadata": {},
   "outputs": [],
   "source": []
  },
  {
   "cell_type": "code",
   "execution_count": null,
   "metadata": {},
   "outputs": [],
   "source": []
  },
  {
   "cell_type": "code",
   "execution_count": null,
   "metadata": {},
   "outputs": [],
   "source": []
  },
  {
   "cell_type": "code",
   "execution_count": null,
   "metadata": {},
   "outputs": [],
   "source": []
  },
  {
   "cell_type": "code",
   "execution_count": null,
   "metadata": {},
   "outputs": [],
   "source": []
  },
  {
   "cell_type": "code",
   "execution_count": null,
   "metadata": {},
   "outputs": [],
   "source": []
  }
 ],
 "metadata": {
  "kernelspec": {
   "display_name": "venv",
   "language": "python",
   "name": "venv"
  },
  "language_info": {
   "codemirror_mode": {
    "name": "ipython",
    "version": 3
   },
   "file_extension": ".py",
   "mimetype": "text/x-python",
   "name": "python",
   "nbconvert_exporter": "python",
   "pygments_lexer": "ipython3",
   "version": "3.9.0"
  },
  "orig_nbformat": 4
 },
 "nbformat": 4,
 "nbformat_minor": 2
}
