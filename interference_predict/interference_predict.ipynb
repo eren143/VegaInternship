{
 "cells": [
  {
   "cell_type": "code",
   "execution_count": 154,
   "metadata": {},
   "outputs": [
    {
     "data": {
      "text/html": [
       "<div>\n",
       "<style scoped>\n",
       "    .dataframe tbody tr th:only-of-type {\n",
       "        vertical-align: middle;\n",
       "    }\n",
       "\n",
       "    .dataframe tbody tr th {\n",
       "        vertical-align: top;\n",
       "    }\n",
       "\n",
       "    .dataframe thead th {\n",
       "        text-align: right;\n",
       "    }\n",
       "</style>\n",
       "<table border=\"1\" class=\"dataframe\">\n",
       "  <thead>\n",
       "    <tr style=\"text-align: right;\">\n",
       "      <th></th>\n",
       "      <th>day</th>\n",
       "      <th>modelName</th>\n",
       "      <th>interface</th>\n",
       "      <th>max_intf_score</th>\n",
       "      <th>ticket_size</th>\n",
       "      <th>total_size</th>\n",
       "    </tr>\n",
       "  </thead>\n",
       "  <tbody>\n",
       "    <tr>\n",
       "      <th>0</th>\n",
       "      <td>2023-03-01</td>\n",
       "      <td>Arcadyan eLife Connect C1AA</td>\n",
       "      <td>0</td>\n",
       "      <td>0.00</td>\n",
       "      <td>0</td>\n",
       "      <td>1744</td>\n",
       "    </tr>\n",
       "    <tr>\n",
       "      <th>1</th>\n",
       "      <td>2023-03-01</td>\n",
       "      <td>Arcadyan eLife Connect C1AA</td>\n",
       "      <td>0</td>\n",
       "      <td>0.01</td>\n",
       "      <td>0</td>\n",
       "      <td>2778</td>\n",
       "    </tr>\n",
       "    <tr>\n",
       "      <th>2</th>\n",
       "      <td>2023-03-01</td>\n",
       "      <td>Arcadyan eLife Connect C1AA</td>\n",
       "      <td>0</td>\n",
       "      <td>0.02</td>\n",
       "      <td>0</td>\n",
       "      <td>891</td>\n",
       "    </tr>\n",
       "    <tr>\n",
       "      <th>3</th>\n",
       "      <td>2023-03-01</td>\n",
       "      <td>Arcadyan eLife Connect C1AA</td>\n",
       "      <td>0</td>\n",
       "      <td>0.03</td>\n",
       "      <td>0</td>\n",
       "      <td>741</td>\n",
       "    </tr>\n",
       "    <tr>\n",
       "      <th>4</th>\n",
       "      <td>2023-03-01</td>\n",
       "      <td>Arcadyan eLife Connect C1AA</td>\n",
       "      <td>0</td>\n",
       "      <td>0.04</td>\n",
       "      <td>0</td>\n",
       "      <td>828</td>\n",
       "    </tr>\n",
       "  </tbody>\n",
       "</table>\n",
       "</div>"
      ],
      "text/plain": [
       "          day                    modelName  interface  max_intf_score  \\\n",
       "0  2023-03-01  Arcadyan eLife Connect C1AA          0            0.00   \n",
       "1  2023-03-01  Arcadyan eLife Connect C1AA          0            0.01   \n",
       "2  2023-03-01  Arcadyan eLife Connect C1AA          0            0.02   \n",
       "3  2023-03-01  Arcadyan eLife Connect C1AA          0            0.03   \n",
       "4  2023-03-01  Arcadyan eLife Connect C1AA          0            0.04   \n",
       "\n",
       "   ticket_size  total_size  \n",
       "0            0        1744  \n",
       "1            0        2778  \n",
       "2            0         891  \n",
       "3            0         741  \n",
       "4            0         828  "
      ]
     },
     "execution_count": 154,
     "metadata": {},
     "output_type": "execute_result"
    }
   ],
   "source": [
    "import pandas as pd\n",
    "import numpy as np\n",
    "from sklearn.isotonic import IsotonicRegression\n",
    "import matplotlib.pyplot as plt\n",
    "from statsmodels import api as sm\n",
    "np.seterr(divide='ignore', invalid='ignore')\n",
    "df = pd.read_csv(\"/Users/erenanbar/Desktop/internship_project/data_small/ticketData_vs_max_interference_202308141556.csv\")\n",
    "df.head(5)\n"
   ]
  },
  {
   "cell_type": "code",
   "execution_count": 155,
   "metadata": {},
   "outputs": [
    {
     "data": {
      "text/html": [
       "<div>\n",
       "<style scoped>\n",
       "    .dataframe tbody tr th:only-of-type {\n",
       "        vertical-align: middle;\n",
       "    }\n",
       "\n",
       "    .dataframe tbody tr th {\n",
       "        vertical-align: top;\n",
       "    }\n",
       "\n",
       "    .dataframe thead th {\n",
       "        text-align: right;\n",
       "    }\n",
       "</style>\n",
       "<table border=\"1\" class=\"dataframe\">\n",
       "  <thead>\n",
       "    <tr style=\"text-align: right;\">\n",
       "      <th></th>\n",
       "      <th>interface</th>\n",
       "      <th>modelName</th>\n",
       "      <th>max_intf_score</th>\n",
       "      <th>ticket_size</th>\n",
       "      <th>total_size</th>\n",
       "      <th>call_prob</th>\n",
       "    </tr>\n",
       "  </thead>\n",
       "  <tbody>\n",
       "    <tr>\n",
       "      <th>0</th>\n",
       "      <td>0</td>\n",
       "      <td>Arcadyan eLife Connect C1AA</td>\n",
       "      <td>0.00</td>\n",
       "      <td>0</td>\n",
       "      <td>42940</td>\n",
       "      <td>0.0</td>\n",
       "    </tr>\n",
       "    <tr>\n",
       "      <th>1</th>\n",
       "      <td>0</td>\n",
       "      <td>Arcadyan eLife Connect C1AA</td>\n",
       "      <td>0.01</td>\n",
       "      <td>0</td>\n",
       "      <td>69231</td>\n",
       "      <td>0.0</td>\n",
       "    </tr>\n",
       "    <tr>\n",
       "      <th>2</th>\n",
       "      <td>0</td>\n",
       "      <td>Arcadyan eLife Connect C1AA</td>\n",
       "      <td>0.02</td>\n",
       "      <td>0</td>\n",
       "      <td>24956</td>\n",
       "      <td>0.0</td>\n",
       "    </tr>\n",
       "    <tr>\n",
       "      <th>3</th>\n",
       "      <td>0</td>\n",
       "      <td>Arcadyan eLife Connect C1AA</td>\n",
       "      <td>0.03</td>\n",
       "      <td>0</td>\n",
       "      <td>18504</td>\n",
       "      <td>0.0</td>\n",
       "    </tr>\n",
       "    <tr>\n",
       "      <th>4</th>\n",
       "      <td>0</td>\n",
       "      <td>Arcadyan eLife Connect C1AA</td>\n",
       "      <td>0.04</td>\n",
       "      <td>0</td>\n",
       "      <td>22123</td>\n",
       "      <td>0.0</td>\n",
       "    </tr>\n",
       "    <tr>\n",
       "      <th>...</th>\n",
       "      <td>...</td>\n",
       "      <td>...</td>\n",
       "      <td>...</td>\n",
       "      <td>...</td>\n",
       "      <td>...</td>\n",
       "      <td>...</td>\n",
       "    </tr>\n",
       "    <tr>\n",
       "      <th>1300</th>\n",
       "      <td>32</td>\n",
       "      <td>etisalat_sercomm_s3_mtk_ccprpl</td>\n",
       "      <td>0.03</td>\n",
       "      <td>0</td>\n",
       "      <td>3</td>\n",
       "      <td>0.0</td>\n",
       "    </tr>\n",
       "    <tr>\n",
       "      <th>1301</th>\n",
       "      <td>32</td>\n",
       "      <td>etisalat_sercomm_s3_mtk_ccprpl</td>\n",
       "      <td>0.04</td>\n",
       "      <td>0</td>\n",
       "      <td>2</td>\n",
       "      <td>0.0</td>\n",
       "    </tr>\n",
       "    <tr>\n",
       "      <th>1302</th>\n",
       "      <td>32</td>\n",
       "      <td>etisalat_sercomm_s3_mtk_ccprpl</td>\n",
       "      <td>0.05</td>\n",
       "      <td>0</td>\n",
       "      <td>2</td>\n",
       "      <td>0.0</td>\n",
       "    </tr>\n",
       "    <tr>\n",
       "      <th>1303</th>\n",
       "      <td>32</td>\n",
       "      <td>etisalat_sercomm_s3_mtk_ccprpl</td>\n",
       "      <td>0.10</td>\n",
       "      <td>0</td>\n",
       "      <td>1</td>\n",
       "      <td>0.0</td>\n",
       "    </tr>\n",
       "    <tr>\n",
       "      <th>1304</th>\n",
       "      <td>32</td>\n",
       "      <td>etisalat_sercomm_s3_mtk_ccprpl</td>\n",
       "      <td>0.83</td>\n",
       "      <td>0</td>\n",
       "      <td>2</td>\n",
       "      <td>0.0</td>\n",
       "    </tr>\n",
       "  </tbody>\n",
       "</table>\n",
       "<p>1305 rows × 6 columns</p>\n",
       "</div>"
      ],
      "text/plain": [
       "      interface                       modelName  max_intf_score  ticket_size  \\\n",
       "0             0     Arcadyan eLife Connect C1AA            0.00            0   \n",
       "1             0     Arcadyan eLife Connect C1AA            0.01            0   \n",
       "2             0     Arcadyan eLife Connect C1AA            0.02            0   \n",
       "3             0     Arcadyan eLife Connect C1AA            0.03            0   \n",
       "4             0     Arcadyan eLife Connect C1AA            0.04            0   \n",
       "...         ...                             ...             ...          ...   \n",
       "1300         32  etisalat_sercomm_s3_mtk_ccprpl            0.03            0   \n",
       "1301         32  etisalat_sercomm_s3_mtk_ccprpl            0.04            0   \n",
       "1302         32  etisalat_sercomm_s3_mtk_ccprpl            0.05            0   \n",
       "1303         32  etisalat_sercomm_s3_mtk_ccprpl            0.10            0   \n",
       "1304         32  etisalat_sercomm_s3_mtk_ccprpl            0.83            0   \n",
       "\n",
       "      total_size  call_prob  \n",
       "0          42940        0.0  \n",
       "1          69231        0.0  \n",
       "2          24956        0.0  \n",
       "3          18504        0.0  \n",
       "4          22123        0.0  \n",
       "...          ...        ...  \n",
       "1300           3        0.0  \n",
       "1301           2        0.0  \n",
       "1302           2        0.0  \n",
       "1303           1        0.0  \n",
       "1304           2        0.0  \n",
       "\n",
       "[1305 rows x 6 columns]"
      ]
     },
     "execution_count": 155,
     "metadata": {},
     "output_type": "execute_result"
    }
   ],
   "source": [
    "df = df.groupby(['interface','modelName','max_intf_score']).agg({'ticket_size':'sum','total_size':'sum'}).reset_index()\n",
    "df['call_prob'] = df['ticket_size']/df['total_size']\n",
    "df['call_prob'] = df['call_prob'].fillna(0)\n",
    "df"
   ]
  },
  {
   "cell_type": "code",
   "execution_count": 158,
   "metadata": {},
   "outputs": [
    {
     "ename": "KeyError",
     "evalue": "101",
     "output_type": "error",
     "traceback": [
      "\u001b[0;31m---------------------------------------------------------------------------\u001b[0m",
      "\u001b[0;31mKeyError\u001b[0m                                  Traceback (most recent call last)",
      "File \u001b[0;32m/Library/Frameworks/Python.framework/Versions/3.9/lib/python3.9/site-packages/pandas/core/indexes/base.py:3653\u001b[0m, in \u001b[0;36mIndex.get_loc\u001b[0;34m(self, key)\u001b[0m\n\u001b[1;32m   3652\u001b[0m \u001b[39mtry\u001b[39;00m:\n\u001b[0;32m-> 3653\u001b[0m     \u001b[39mreturn\u001b[39;00m \u001b[39mself\u001b[39;49m\u001b[39m.\u001b[39;49m_engine\u001b[39m.\u001b[39;49mget_loc(casted_key)\n\u001b[1;32m   3654\u001b[0m \u001b[39mexcept\u001b[39;00m \u001b[39mKeyError\u001b[39;00m \u001b[39mas\u001b[39;00m err:\n",
      "File \u001b[0;32m/Library/Frameworks/Python.framework/Versions/3.9/lib/python3.9/site-packages/pandas/_libs/index.pyx:147\u001b[0m, in \u001b[0;36mpandas._libs.index.IndexEngine.get_loc\u001b[0;34m()\u001b[0m\n",
      "File \u001b[0;32m/Library/Frameworks/Python.framework/Versions/3.9/lib/python3.9/site-packages/pandas/_libs/index.pyx:176\u001b[0m, in \u001b[0;36mpandas._libs.index.IndexEngine.get_loc\u001b[0;34m()\u001b[0m\n",
      "File \u001b[0;32mpandas/_libs/hashtable_class_helper.pxi:2606\u001b[0m, in \u001b[0;36mpandas._libs.hashtable.Int64HashTable.get_item\u001b[0;34m()\u001b[0m\n",
      "File \u001b[0;32mpandas/_libs/hashtable_class_helper.pxi:2630\u001b[0m, in \u001b[0;36mpandas._libs.hashtable.Int64HashTable.get_item\u001b[0;34m()\u001b[0m\n",
      "\u001b[0;31mKeyError\u001b[0m: 101",
      "\nThe above exception was the direct cause of the following exception:\n",
      "\u001b[0;31mKeyError\u001b[0m                                  Traceback (most recent call last)",
      "\u001b[1;32m/Users/erenanbar/Desktop/internship_project/interference_predict/interference_predict.ipynb Cell 3\u001b[0m line \u001b[0;36m9\n\u001b[1;32m      <a href='vscode-notebook-cell:/Users/erenanbar/Desktop/internship_project/interference_predict/interference_predict.ipynb#W2sZmlsZQ%3D%3D?line=6'>7</a>\u001b[0m         arr \u001b[39m=\u001b[39m df\u001b[39m.\u001b[39mloc[mask,\u001b[39m'\u001b[39m\u001b[39mcall_prob\u001b[39m\u001b[39m'\u001b[39m]\n\u001b[1;32m      <a href='vscode-notebook-cell:/Users/erenanbar/Desktop/internship_project/interference_predict/interference_predict.ipynb#W2sZmlsZQ%3D%3D?line=7'>8</a>\u001b[0m         \u001b[39mfor\u001b[39;00m i \u001b[39min\u001b[39;00m \u001b[39mrange\u001b[39m(\u001b[39m0\u001b[39m,\u001b[39mlen\u001b[39m(arr),\u001b[39m1\u001b[39m):\n\u001b[0;32m----> <a href='vscode-notebook-cell:/Users/erenanbar/Desktop/internship_project/interference_predict/interference_predict.ipynb#W2sZmlsZQ%3D%3D?line=8'>9</a>\u001b[0m             \u001b[39mif\u001b[39;00m (df\u001b[39m.\u001b[39;49mloc[mask,\u001b[39m'\u001b[39;49m\u001b[39mcall_prob\u001b[39;49m\u001b[39m'\u001b[39;49m][i\u001b[39m+\u001b[39;49m\u001b[39m1\u001b[39;49m] \u001b[39m<\u001b[39m df\u001b[39m.\u001b[39mloc[mask,\u001b[39m'\u001b[39m\u001b[39mcall_prob\u001b[39m\u001b[39m'\u001b[39m][i]):\n\u001b[1;32m     <a href='vscode-notebook-cell:/Users/erenanbar/Desktop/internship_project/interference_predict/interference_predict.ipynb#W2sZmlsZQ%3D%3D?line=9'>10</a>\u001b[0m                 df\u001b[39m.\u001b[39mloc[mask,\u001b[39m'\u001b[39m\u001b[39mcall_prob\u001b[39m\u001b[39m'\u001b[39m][i\u001b[39m+\u001b[39m\u001b[39m1\u001b[39m] \u001b[39m=\u001b[39m df\u001b[39m.\u001b[39mloc[mask,\u001b[39m'\u001b[39m\u001b[39mcall_prob\u001b[39m\u001b[39m'\u001b[39m][i]\n\u001b[1;32m     <a href='vscode-notebook-cell:/Users/erenanbar/Desktop/internship_project/interference_predict/interference_predict.ipynb#W2sZmlsZQ%3D%3D?line=11'>12</a>\u001b[0m plt\u001b[39m.\u001b[39mplot(df\u001b[39m.\u001b[39mloc[(df[\u001b[39m'\u001b[39m\u001b[39minterface\u001b[39m\u001b[39m'\u001b[39m] \u001b[39m==\u001b[39m \u001b[39m32\u001b[39m) \u001b[39m&\u001b[39m (df[\u001b[39m'\u001b[39m\u001b[39mmodelName\u001b[39m\u001b[39m'\u001b[39m] \u001b[39m==\u001b[39m \u001b[39m'\u001b[39m\u001b[39mArcadyan eLife Connect C1AA\u001b[39m\u001b[39m'\u001b[39m), \u001b[39m\"\u001b[39m\u001b[39mmax_intf_score\u001b[39m\u001b[39m\"\u001b[39m], \n\u001b[1;32m     <a href='vscode-notebook-cell:/Users/erenanbar/Desktop/internship_project/interference_predict/interference_predict.ipynb#W2sZmlsZQ%3D%3D?line=12'>13</a>\u001b[0m          df\u001b[39m.\u001b[39mloc[(df[\u001b[39m'\u001b[39m\u001b[39minterface\u001b[39m\u001b[39m'\u001b[39m] \u001b[39m==\u001b[39m \u001b[39m32\u001b[39m) \u001b[39m&\u001b[39m (df[\u001b[39m'\u001b[39m\u001b[39mmodelName\u001b[39m\u001b[39m'\u001b[39m] \u001b[39m==\u001b[39m \u001b[39m'\u001b[39m\u001b[39mArcadyan eLife Connect C1AA\u001b[39m\u001b[39m'\u001b[39m), \u001b[39m\"\u001b[39m\u001b[39mcall_prob\u001b[39m\u001b[39m\"\u001b[39m])\n",
      "File \u001b[0;32m/Library/Frameworks/Python.framework/Versions/3.9/lib/python3.9/site-packages/pandas/core/series.py:1007\u001b[0m, in \u001b[0;36mSeries.__getitem__\u001b[0;34m(self, key)\u001b[0m\n\u001b[1;32m   1004\u001b[0m     \u001b[39mreturn\u001b[39;00m \u001b[39mself\u001b[39m\u001b[39m.\u001b[39m_values[key]\n\u001b[1;32m   1006\u001b[0m \u001b[39melif\u001b[39;00m key_is_scalar:\n\u001b[0;32m-> 1007\u001b[0m     \u001b[39mreturn\u001b[39;00m \u001b[39mself\u001b[39;49m\u001b[39m.\u001b[39;49m_get_value(key)\n\u001b[1;32m   1009\u001b[0m \u001b[39mif\u001b[39;00m is_hashable(key):\n\u001b[1;32m   1010\u001b[0m     \u001b[39m# Otherwise index.get_value will raise InvalidIndexError\u001b[39;00m\n\u001b[1;32m   1011\u001b[0m     \u001b[39mtry\u001b[39;00m:\n\u001b[1;32m   1012\u001b[0m         \u001b[39m# For labels that don't resolve as scalars like tuples and frozensets\u001b[39;00m\n",
      "File \u001b[0;32m/Library/Frameworks/Python.framework/Versions/3.9/lib/python3.9/site-packages/pandas/core/series.py:1116\u001b[0m, in \u001b[0;36mSeries._get_value\u001b[0;34m(self, label, takeable)\u001b[0m\n\u001b[1;32m   1113\u001b[0m     \u001b[39mreturn\u001b[39;00m \u001b[39mself\u001b[39m\u001b[39m.\u001b[39m_values[label]\n\u001b[1;32m   1115\u001b[0m \u001b[39m# Similar to Index.get_value, but we do not fall back to positional\u001b[39;00m\n\u001b[0;32m-> 1116\u001b[0m loc \u001b[39m=\u001b[39m \u001b[39mself\u001b[39;49m\u001b[39m.\u001b[39;49mindex\u001b[39m.\u001b[39;49mget_loc(label)\n\u001b[1;32m   1118\u001b[0m \u001b[39mif\u001b[39;00m is_integer(loc):\n\u001b[1;32m   1119\u001b[0m     \u001b[39mreturn\u001b[39;00m \u001b[39mself\u001b[39m\u001b[39m.\u001b[39m_values[loc]\n",
      "File \u001b[0;32m/Library/Frameworks/Python.framework/Versions/3.9/lib/python3.9/site-packages/pandas/core/indexes/base.py:3655\u001b[0m, in \u001b[0;36mIndex.get_loc\u001b[0;34m(self, key)\u001b[0m\n\u001b[1;32m   3653\u001b[0m     \u001b[39mreturn\u001b[39;00m \u001b[39mself\u001b[39m\u001b[39m.\u001b[39m_engine\u001b[39m.\u001b[39mget_loc(casted_key)\n\u001b[1;32m   3654\u001b[0m \u001b[39mexcept\u001b[39;00m \u001b[39mKeyError\u001b[39;00m \u001b[39mas\u001b[39;00m err:\n\u001b[0;32m-> 3655\u001b[0m     \u001b[39mraise\u001b[39;00m \u001b[39mKeyError\u001b[39;00m(key) \u001b[39mfrom\u001b[39;00m \u001b[39merr\u001b[39;00m\n\u001b[1;32m   3656\u001b[0m \u001b[39mexcept\u001b[39;00m \u001b[39mTypeError\u001b[39;00m:\n\u001b[1;32m   3657\u001b[0m     \u001b[39m# If we have a listlike key, _check_indexing_error will raise\u001b[39;00m\n\u001b[1;32m   3658\u001b[0m     \u001b[39m#  InvalidIndexError. Otherwise we fall through and re-raise\u001b[39;00m\n\u001b[1;32m   3659\u001b[0m     \u001b[39m#  the TypeError.\u001b[39;00m\n\u001b[1;32m   3660\u001b[0m     \u001b[39mself\u001b[39m\u001b[39m.\u001b[39m_check_indexing_error(key)\n",
      "\u001b[0;31mKeyError\u001b[0m: 101"
     ]
    }
   ],
   "source": [
    "df_grouped = df.groupby(['interface','modelName'])\n",
    "\n",
    "for interface in df['interface'].unique():\n",
    "    for model in df['modelName'].unique():\n",
    "        mask = ((df['interface'] == interface)&\n",
    "                (df['modelName'] == model))\n",
    "        arr = df.loc[mask,'call_prob']\n",
    "        for i in range(0,len(arr),1):\n",
    "            if (df.loc[mask,'call_prob'][i+1] < df.loc[mask,'call_prob'][i]):\n",
    "                df.loc[mask,'call_prob'][i+1] = df.loc[mask,'call_prob'][i]\n",
    "            \n",
    "plt.plot(df.loc[(df['interface'] == 32) & (df['modelName'] == 'Arcadyan eLife Connect C1AA'), \"max_intf_score\"], \n",
    "         df.loc[(df['interface'] == 32) & (df['modelName'] == 'Arcadyan eLife Connect C1AA'), \"call_prob\"])\n",
    "    "
   ]
  },
  {
   "cell_type": "code",
   "execution_count": 86,
   "metadata": {},
   "outputs": [
    {
     "data": {
      "text/plain": [
       "[<matplotlib.lines.Line2D at 0x7fd959174640>]"
      ]
     },
     "execution_count": 86,
     "metadata": {},
     "output_type": "execute_result"
    },
    {
     "data": {
      "image/png": "[encoded data removed]",
      "text/plain": [
       "<Figure size 640x480 with 1 Axes>"
      ]
     },
     "metadata": {},
     "output_type": "display_data"
    }
   ],
   "source": [
    "\n"
   ]
  },
  {
   "cell_type": "code",
   "execution_count": 82,
   "metadata": {},
   "outputs": [
    {
     "data": {
      "text/plain": [
       "[<matplotlib.lines.Line2D at 0x7fd95b058490>]"
      ]
     },
     "execution_count": 82,
     "metadata": {},
     "output_type": "execute_result"
    },
    {
     "data": {
      "image/png": "[encoded data removed]",
      "text/plain": [
       "<Figure size 640x480 with 1 Axes>"
      ]
     },
     "metadata": {},
     "output_type": "display_data"
    }
   ],
   "source": []
  },
  {
   "cell_type": "code",
   "execution_count": null,
   "metadata": {},
   "outputs": [],
   "source": [
    "plt.plot(df.loc[(df['interface'] == 32) & (df['modelName'] == 'Etisalat-S3'), \"max_intf_score\"], \n",
    "         df.loc[(df['interface'] == 32) & (df['modelName'] == 'Etisalat-S3'), \"call_prob\"])\n",
    "         \n",
    "plt.plot(df.loc[(df['interface'] == 32) & (df['modelName'] == 'Etisalat-S3'), \"max_intf_score\"], \n",
    "         df.loc[(df['interface'] == 32) & (df['modelName'] == 'Etisalat-S3'), \"prob_predict\"])"
   ]
  },
  {
   "cell_type": "code",
   "execution_count": null,
   "metadata": {},
   "outputs": [],
   "source": [
    "\n",
    "\n",
    "isoR = IsotonicRegression(\n",
    "        y_min=0,\n",
    "        y_max=1,\n",
    "        increasing=True,\n",
    "        out_of_bounds=\"clip\")\n",
    "\n",
    "df_grouped = df.groupby(['interface','modelName'])\n",
    "for interface_model, data in df_grouped:\n",
    "    interface, modelName = interface_model[0],interface_model[1]\n",
    "    x_train = data['max_intf_score']\n",
    "    y_train = data['ticket_prob']\n",
    "    isoR_intscore = isoR.fit(x_train, y_train)\n",
    "    train_prediction = isoR_intscore.predict(x_train)\n",
    "    train_prediction_smoothed = sm.nonparametric.lowess(\n",
    "    train_prediction, x_train, frac=0.3)[:, 1]\n",
    "    df.loc[(df['interface'] == interface) & (df['modelName'] == modelName), \"prob_isoR\"] = train_prediction\n",
    "    df.loc[(df['interface'] == interface) & (df['modelName'] == modelName), \"prob_isoR_smoothed\"] = train_prediction_smoothed\n",
    "    \n",
    "#enter interface and model to plot\n",
    "interface_model = (0,'DLink DIR-853/ET')\n",
    "\n",
    "score_column = df_grouped.get_group((interface_model[0],interface_model[1]))['max_intf_score']\n",
    "predict_column = df_grouped.get_group((interface_model[0],interface_model[1]))['prob_isoR_smoothed']\n",
    "train_column = df_grouped.get_group((interface_model[0],interface_model[1]))['ticket_prob']\n",
    "\n",
    "plt.plot(score_column,train_column,label='prob_train')\n",
    "plt.plot(score_column,predict_column,label='prob_predict')\n",
    "plt.xlabel('intf_score')\n",
    "plt.ylabel('prob')\n",
    "plt.title('interface: ' + str(interface_model[0]) + ' Model name: ' + interface_model[1] )\n",
    "plt.legend()\n",
    "plt.show()"
   ]
  },
  {
   "cell_type": "code",
   "execution_count": null,
   "metadata": {},
   "outputs": [],
   "source": []
  },
  {
   "cell_type": "code",
   "execution_count": null,
   "metadata": {},
   "outputs": [],
   "source": []
  },
  {
   "cell_type": "code",
   "execution_count": null,
   "metadata": {},
   "outputs": [],
   "source": []
  },
  {
   "cell_type": "code",
   "execution_count": null,
   "metadata": {},
   "outputs": [],
   "source": []
  },
  {
   "cell_type": "code",
   "execution_count": null,
   "metadata": {},
   "outputs": [],
   "source": []
  },
  {
   "cell_type": "code",
   "execution_count": null,
   "metadata": {},
   "outputs": [],
   "source": []
  },
  {
   "cell_type": "code",
   "execution_count": null,
   "metadata": {},
   "outputs": [],
   "source": []
  }
 ],
 "metadata": {
  "kernelspec": {
   "display_name": "venv",
   "language": "python",
   "name": "venv"
  },
  "language_info": {
   "codemirror_mode": {
    "name": "ipython",
    "version": 3
   },
   "file_extension": ".py",
   "mimetype": "text/x-python",
   "name": "python",
   "nbconvert_exporter": "python",
   "pygments_lexer": "ipython3",
   "version": "3.9.0"
  },
  "orig_nbformat": 4
 },
 "nbformat": 4,
 "nbformat_minor": 2
}
