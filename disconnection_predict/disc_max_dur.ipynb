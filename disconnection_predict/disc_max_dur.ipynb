{
 "cells": [
  {
   "cell_type": "code",
   "execution_count": 107,
   "metadata": {},
   "outputs": [
    {
     "data": {
      "text/html": [
       "<div>\n",
       "<style scoped>\n",
       "    .dataframe tbody tr th:only-of-type {\n",
       "        vertical-align: middle;\n",
       "    }\n",
       "\n",
       "    .dataframe tbody tr th {\n",
       "        vertical-align: top;\n",
       "    }\n",
       "\n",
       "    .dataframe thead th {\n",
       "        text-align: right;\n",
       "    }\n",
       "</style>\n",
       "<table border=\"1\" class=\"dataframe\">\n",
       "  <thead>\n",
       "    <tr style=\"text-align: right;\">\n",
       "      <th></th>\n",
       "      <th>day</th>\n",
       "      <th>modelName</th>\n",
       "      <th>numDisconnection</th>\n",
       "      <th>maxDuration</th>\n",
       "      <th>ticket_size</th>\n",
       "      <th>total_size</th>\n",
       "    </tr>\n",
       "  </thead>\n",
       "  <tbody>\n",
       "    <tr>\n",
       "      <th>0</th>\n",
       "      <td>2023-02-23</td>\n",
       "      <td>DLink DIR-853/ET</td>\n",
       "      <td>4</td>\n",
       "      <td>20.0</td>\n",
       "      <td>0</td>\n",
       "      <td>1</td>\n",
       "    </tr>\n",
       "    <tr>\n",
       "      <th>1</th>\n",
       "      <td>2023-02-23</td>\n",
       "      <td>DLink DIR-853/ET</td>\n",
       "      <td>15</td>\n",
       "      <td>145.0</td>\n",
       "      <td>0</td>\n",
       "      <td>1</td>\n",
       "    </tr>\n",
       "    <tr>\n",
       "      <th>2</th>\n",
       "      <td>2023-02-23</td>\n",
       "      <td>DLink DIR-853/ET</td>\n",
       "      <td>5</td>\n",
       "      <td>250.0</td>\n",
       "      <td>0</td>\n",
       "      <td>1</td>\n",
       "    </tr>\n",
       "    <tr>\n",
       "      <th>3</th>\n",
       "      <td>2023-02-23</td>\n",
       "      <td>DLink DIR-853/ET</td>\n",
       "      <td>3</td>\n",
       "      <td>60.0</td>\n",
       "      <td>0</td>\n",
       "      <td>1</td>\n",
       "    </tr>\n",
       "    <tr>\n",
       "      <th>4</th>\n",
       "      <td>2023-02-23</td>\n",
       "      <td>DLink DIR-853/ET</td>\n",
       "      <td>3</td>\n",
       "      <td>150.0</td>\n",
       "      <td>0</td>\n",
       "      <td>1</td>\n",
       "    </tr>\n",
       "  </tbody>\n",
       "</table>\n",
       "</div>"
      ],
      "text/plain": [
       "          day         modelName  numDisconnection  maxDuration  ticket_size  \\\n",
       "0  2023-02-23  DLink DIR-853/ET                 4         20.0            0   \n",
       "1  2023-02-23  DLink DIR-853/ET                15        145.0            0   \n",
       "2  2023-02-23  DLink DIR-853/ET                 5        250.0            0   \n",
       "3  2023-02-23  DLink DIR-853/ET                 3         60.0            0   \n",
       "4  2023-02-23  DLink DIR-853/ET                 3        150.0            0   \n",
       "\n",
       "   total_size  \n",
       "0           1  \n",
       "1           1  \n",
       "2           1  \n",
       "3           1  \n",
       "4           1  "
      ]
     },
     "execution_count": 107,
     "metadata": {},
     "output_type": "execute_result"
    }
   ],
   "source": [
    "import pandas as pd\n",
    "import numpy as np\n",
    "from matplotlib import pyplot as plt\n",
    "df = pd.read_csv('/Users/erenanbar/Desktop/data/ticketData_vs_disconnections.csv')\n",
    "df.head(5)"
   ]
  },
  {
   "cell_type": "code",
   "execution_count": 108,
   "metadata": {},
   "outputs": [
    {
     "data": {
      "text/plain": [
       "modelName\n",
       "DLink DIR-853/ET                   457372\n",
       "Etisalat-S3                         97024\n",
       "Arcadyan eLife Connect C1AA         92990\n",
       "Technicolor MediaAccess DGA4231     11355\n",
       "DLink                                 137\n",
       "ETISALAT-HG6244B                       43\n",
       "eLife Connect C1AA                     41\n",
       "Sercomm ETISALAT-HG6244B               38\n",
       "DLink pppoe                            32\n",
       "DLink eth3.21                          27\n",
       "etisalat_sercomm_s3_mtk_ccprpl         26\n",
       "DLink 1                                17\n",
       "DLink eth3.24                           3\n",
       "DLink eth3                              2\n",
       "DLink static                            1\n",
       "Name: count, dtype: int64"
      ]
     },
     "execution_count": 108,
     "metadata": {},
     "output_type": "execute_result"
    }
   ],
   "source": [
    "df['modelName'].value_counts()"
   ]
  },
  {
   "cell_type": "code",
   "execution_count": 109,
   "metadata": {},
   "outputs": [
    {
     "data": {
      "text/plain": [
       "modelName\n",
       "DLink DIR-853/ET                   457372\n",
       "Etisalat-S3                         97024\n",
       "Arcadyan eLife Connect C1AA         92990\n",
       "Technicolor MediaAccess DGA4231     11355\n",
       "Name: count, dtype: int64"
      ]
     },
     "execution_count": 109,
     "metadata": {},
     "output_type": "execute_result"
    }
   ],
   "source": [
    "df1 = df.loc[(df['modelName'] == 'DLink DIR-853/ET') | \n",
    "             (df['modelName'] == 'Etisalat-S3') | \n",
    "             (df['modelName'] == 'Arcadyan eLife Connect C1AA') | \n",
    "             (df['modelName'] == 'Technicolor MediaAccess DGA4231')]\n",
    "df1['modelName'].value_counts()\n"
   ]
  },
  {
   "cell_type": "code",
   "execution_count": 110,
   "metadata": {},
   "outputs": [
    {
     "data": {
      "text/html": [
       "<div>\n",
       "<style scoped>\n",
       "    .dataframe tbody tr th:only-of-type {\n",
       "        vertical-align: middle;\n",
       "    }\n",
       "\n",
       "    .dataframe tbody tr th {\n",
       "        vertical-align: top;\n",
       "    }\n",
       "\n",
       "    .dataframe thead th {\n",
       "        text-align: right;\n",
       "    }\n",
       "</style>\n",
       "<table border=\"1\" class=\"dataframe\">\n",
       "  <thead>\n",
       "    <tr style=\"text-align: right;\">\n",
       "      <th></th>\n",
       "      <th>numDisconnection</th>\n",
       "      <th>maxDuration</th>\n",
       "      <th>ticket_size</th>\n",
       "      <th>total_size</th>\n",
       "    </tr>\n",
       "  </thead>\n",
       "  <tbody>\n",
       "    <tr>\n",
       "      <th>count</th>\n",
       "      <td>658741.000000</td>\n",
       "      <td>658741.000000</td>\n",
       "      <td>658741.000000</td>\n",
       "      <td>658741.000000</td>\n",
       "    </tr>\n",
       "    <tr>\n",
       "      <th>mean</th>\n",
       "      <td>6.277174</td>\n",
       "      <td>290.150469</td>\n",
       "      <td>0.035609</td>\n",
       "      <td>14.636543</td>\n",
       "    </tr>\n",
       "    <tr>\n",
       "      <th>std</th>\n",
       "      <td>14.778042</td>\n",
       "      <td>241.912670</td>\n",
       "      <td>0.652001</td>\n",
       "      <td>198.789099</td>\n",
       "    </tr>\n",
       "    <tr>\n",
       "      <th>min</th>\n",
       "      <td>1.000000</td>\n",
       "      <td>0.000000</td>\n",
       "      <td>0.000000</td>\n",
       "      <td>1.000000</td>\n",
       "    </tr>\n",
       "    <tr>\n",
       "      <th>25%</th>\n",
       "      <td>2.000000</td>\n",
       "      <td>135.000000</td>\n",
       "      <td>0.000000</td>\n",
       "      <td>1.000000</td>\n",
       "    </tr>\n",
       "    <tr>\n",
       "      <th>50%</th>\n",
       "      <td>3.000000</td>\n",
       "      <td>185.000000</td>\n",
       "      <td>0.000000</td>\n",
       "      <td>1.000000</td>\n",
       "    </tr>\n",
       "    <tr>\n",
       "      <th>75%</th>\n",
       "      <td>5.000000</td>\n",
       "      <td>385.000000</td>\n",
       "      <td>0.000000</td>\n",
       "      <td>2.000000</td>\n",
       "    </tr>\n",
       "    <tr>\n",
       "      <th>85%</th>\n",
       "      <td>8.000000</td>\n",
       "      <td>555.000000</td>\n",
       "      <td>0.000000</td>\n",
       "      <td>4.000000</td>\n",
       "    </tr>\n",
       "    <tr>\n",
       "      <th>95%</th>\n",
       "      <td>21.000000</td>\n",
       "      <td>855.000000</td>\n",
       "      <td>0.000000</td>\n",
       "      <td>14.000000</td>\n",
       "    </tr>\n",
       "    <tr>\n",
       "      <th>99%</th>\n",
       "      <td>60.000000</td>\n",
       "      <td>1000.000000</td>\n",
       "      <td>1.000000</td>\n",
       "      <td>88.000000</td>\n",
       "    </tr>\n",
       "    <tr>\n",
       "      <th>max</th>\n",
       "      <td>1061.000000</td>\n",
       "      <td>1000.000000</td>\n",
       "      <td>121.000000</td>\n",
       "      <td>35916.000000</td>\n",
       "    </tr>\n",
       "  </tbody>\n",
       "</table>\n",
       "</div>"
      ],
      "text/plain": [
       "       numDisconnection    maxDuration    ticket_size     total_size\n",
       "count     658741.000000  658741.000000  658741.000000  658741.000000\n",
       "mean           6.277174     290.150469       0.035609      14.636543\n",
       "std           14.778042     241.912670       0.652001     198.789099\n",
       "min            1.000000       0.000000       0.000000       1.000000\n",
       "25%            2.000000     135.000000       0.000000       1.000000\n",
       "50%            3.000000     185.000000       0.000000       1.000000\n",
       "75%            5.000000     385.000000       0.000000       2.000000\n",
       "85%            8.000000     555.000000       0.000000       4.000000\n",
       "95%           21.000000     855.000000       0.000000      14.000000\n",
       "99%           60.000000    1000.000000       1.000000      88.000000\n",
       "max         1061.000000    1000.000000     121.000000   35916.000000"
      ]
     },
     "execution_count": 110,
     "metadata": {},
     "output_type": "execute_result"
    }
   ],
   "source": [
    "df1.describe(percentiles = [0.25,0.50,0.75,0.85,0.95,0.99])"
   ]
  },
  {
   "cell_type": "code",
   "execution_count": 111,
   "metadata": {},
   "outputs": [
    {
     "data": {
      "text/plain": [
       "Text(0, 0.5, 'freq')"
      ]
     },
     "execution_count": 111,
     "metadata": {},
     "output_type": "execute_result"
    },
    {
     "data": {
      "image/png": "[encoded data removed]",
      "text/plain": [
       "<Figure size 700x700 with 1 Axes>"
      ]
     },
     "metadata": {},
     "output_type": "display_data"
    }
   ],
   "source": [
    "plt.figure(figsize = (7,7)) \n",
    "plt.hist(df['numDisconnection'], bins=range(0,300,1), edgecolor = 'black')\n",
    "plt.xlabel('num_disc')\n",
    "plt.ylabel('freq')"
   ]
  },
  {
   "cell_type": "code",
   "execution_count": 112,
   "metadata": {},
   "outputs": [
    {
     "data": {
      "text/plain": [
       "Text(0, 0.5, 'freq')"
      ]
     },
     "execution_count": 112,
     "metadata": {},
     "output_type": "execute_result"
    },
    {
     "data": {
      "image/png": "[encoded data removed]",
      "text/plain": [
       "<Figure size 700x700 with 1 Axes>"
      ]
     },
     "metadata": {},
     "output_type": "display_data"
    }
   ],
   "source": [
    "plt.figure(figsize = (7,7)) \n",
    "plt.hist(df['maxDuration'], bins=range(0,1000,1), edgecolor = 'black')\n",
    "plt.xlabel('max_duration')\n",
    "plt.ylabel('freq')"
   ]
  },
  {
   "cell_type": "code",
   "execution_count": 113,
   "metadata": {},
   "outputs": [
    {
     "name": "stderr",
     "output_type": "stream",
     "text": [
      "/var/folders/46/xw2_sqld4rq41nxffjb_bl140000gn/T/ipykernel_1729/822662177.py:4: SettingWithCopyWarning: \n",
      "A value is trying to be set on a copy of a slice from a DataFrame.\n",
      "Try using .loc[row_indexer,col_indexer] = value instead\n",
      "\n",
      "See the caveats in the documentation: https://pandas.pydata.org/pandas-docs/stable/user_guide/indexing.html#returning-a-view-versus-a-copy\n",
      "  df1['bin_max_dur'] = pd.cut(df1['maxDuration'],\n",
      "No artists with labels found to put in legend.  Note that artists whose label start with an underscore are ignored when legend() is called with no argument.\n"
     ]
    },
    {
     "data": {
      "image/png": "[encoded data removed]",
      "text/plain": [
       "<Figure size 640x480 with 1 Axes>"
      ]
     },
     "metadata": {},
     "output_type": "display_data"
    }
   ],
   "source": [
    "step = 100\n",
    "stop = 500\n",
    "bins_max_dur = np.arange(start = 0, stop = stop, step = step)\n",
    "df1['bin_max_dur'] = pd.cut(df1['maxDuration'], \n",
    "                   bins = bins_max_dur,\n",
    "                   labels = np.arange(step,stop,step))\n",
    "\n",
    "df1_grouped_max_dur = df1.groupby(['modelName','bin_max_dur']).aggregate({'ticket_size':'sum','total_size':'sum'}).reset_index()\n",
    "df1_grouped_max_dur['call_prob_max_dur'] = df1_grouped_max_dur['ticket_size']/df1_grouped_max_dur['total_size']\n",
    "\n",
    "\n",
    "plt.plot(df1_grouped_max_dur.groupby('modelName').get_group('DLink DIR-853/ET')['bin_max_dur'],\n",
    "         df1_grouped_max_dur.groupby('modelName').get_group('DLink DIR-853/ET')['call_prob_max_dur'])\n",
    "plt.title('DLink DIR-853/ET')\n",
    "plt.xlabel('max_dur_binnned')\n",
    "plt.ylabel('call_prob')\n",
    "plt.legend()\n",
    "plt.show()"
   ]
  },
  {
   "cell_type": "code",
   "execution_count": 114,
   "metadata": {},
   "outputs": [
    {
     "name": "stderr",
     "output_type": "stream",
     "text": [
      "/var/folders/46/xw2_sqld4rq41nxffjb_bl140000gn/T/ipykernel_1729/3413125333.py:4: SettingWithCopyWarning: \n",
      "A value is trying to be set on a copy of a slice from a DataFrame.\n",
      "Try using .loc[row_indexer,col_indexer] = value instead\n",
      "\n",
      "See the caveats in the documentation: https://pandas.pydata.org/pandas-docs/stable/user_guide/indexing.html#returning-a-view-versus-a-copy\n",
      "  df1['bin_num_disc'] = pd.cut(df1['numDisconnection'],\n"
     ]
    },
    {
     "data": {
      "text/html": [
       "<div>\n",
       "<style scoped>\n",
       "    .dataframe tbody tr th:only-of-type {\n",
       "        vertical-align: middle;\n",
       "    }\n",
       "\n",
       "    .dataframe tbody tr th {\n",
       "        vertical-align: top;\n",
       "    }\n",
       "\n",
       "    .dataframe thead th {\n",
       "        text-align: right;\n",
       "    }\n",
       "</style>\n",
       "<table border=\"1\" class=\"dataframe\">\n",
       "  <thead>\n",
       "    <tr style=\"text-align: right;\">\n",
       "      <th></th>\n",
       "      <th>modelName</th>\n",
       "      <th>bin_num_disc</th>\n",
       "      <th>bin_max_dur</th>\n",
       "      <th>ticket_size</th>\n",
       "      <th>total_size</th>\n",
       "      <th>call_prob_num_disc</th>\n",
       "    </tr>\n",
       "  </thead>\n",
       "  <tbody>\n",
       "    <tr>\n",
       "      <th>0</th>\n",
       "      <td>Arcadyan eLife Connect C1AA</td>\n",
       "      <td>5</td>\n",
       "      <td>100</td>\n",
       "      <td>12</td>\n",
       "      <td>138262</td>\n",
       "      <td>0.000087</td>\n",
       "    </tr>\n",
       "    <tr>\n",
       "      <th>1</th>\n",
       "      <td>Arcadyan eLife Connect C1AA</td>\n",
       "      <td>5</td>\n",
       "      <td>200</td>\n",
       "      <td>7</td>\n",
       "      <td>82050</td>\n",
       "      <td>0.000085</td>\n",
       "    </tr>\n",
       "    <tr>\n",
       "      <th>2</th>\n",
       "      <td>Arcadyan eLife Connect C1AA</td>\n",
       "      <td>5</td>\n",
       "      <td>300</td>\n",
       "      <td>1</td>\n",
       "      <td>24278</td>\n",
       "      <td>0.000041</td>\n",
       "    </tr>\n",
       "    <tr>\n",
       "      <th>3</th>\n",
       "      <td>Arcadyan eLife Connect C1AA</td>\n",
       "      <td>5</td>\n",
       "      <td>400</td>\n",
       "      <td>1</td>\n",
       "      <td>14495</td>\n",
       "      <td>0.000069</td>\n",
       "    </tr>\n",
       "    <tr>\n",
       "      <th>4</th>\n",
       "      <td>Arcadyan eLife Connect C1AA</td>\n",
       "      <td>10</td>\n",
       "      <td>100</td>\n",
       "      <td>0</td>\n",
       "      <td>1589</td>\n",
       "      <td>0.000000</td>\n",
       "    </tr>\n",
       "    <tr>\n",
       "      <th>...</th>\n",
       "      <td>...</td>\n",
       "      <td>...</td>\n",
       "      <td>...</td>\n",
       "      <td>...</td>\n",
       "      <td>...</td>\n",
       "      <td>...</td>\n",
       "    </tr>\n",
       "    <tr>\n",
       "      <th>171</th>\n",
       "      <td>Technicolor MediaAccess DGA4231</td>\n",
       "      <td>50</td>\n",
       "      <td>400</td>\n",
       "      <td>0</td>\n",
       "      <td>0</td>\n",
       "      <td>NaN</td>\n",
       "    </tr>\n",
       "    <tr>\n",
       "      <th>172</th>\n",
       "      <td>Technicolor MediaAccess DGA4231</td>\n",
       "      <td>55</td>\n",
       "      <td>100</td>\n",
       "      <td>0</td>\n",
       "      <td>0</td>\n",
       "      <td>NaN</td>\n",
       "    </tr>\n",
       "    <tr>\n",
       "      <th>173</th>\n",
       "      <td>Technicolor MediaAccess DGA4231</td>\n",
       "      <td>55</td>\n",
       "      <td>200</td>\n",
       "      <td>0</td>\n",
       "      <td>0</td>\n",
       "      <td>NaN</td>\n",
       "    </tr>\n",
       "    <tr>\n",
       "      <th>174</th>\n",
       "      <td>Technicolor MediaAccess DGA4231</td>\n",
       "      <td>55</td>\n",
       "      <td>300</td>\n",
       "      <td>0</td>\n",
       "      <td>0</td>\n",
       "      <td>NaN</td>\n",
       "    </tr>\n",
       "    <tr>\n",
       "      <th>175</th>\n",
       "      <td>Technicolor MediaAccess DGA4231</td>\n",
       "      <td>55</td>\n",
       "      <td>400</td>\n",
       "      <td>0</td>\n",
       "      <td>0</td>\n",
       "      <td>NaN</td>\n",
       "    </tr>\n",
       "  </tbody>\n",
       "</table>\n",
       "<p>176 rows × 6 columns</p>\n",
       "</div>"
      ],
      "text/plain": [
       "                           modelName bin_num_disc bin_max_dur  ticket_size  \\\n",
       "0        Arcadyan eLife Connect C1AA            5         100           12   \n",
       "1        Arcadyan eLife Connect C1AA            5         200            7   \n",
       "2        Arcadyan eLife Connect C1AA            5         300            1   \n",
       "3        Arcadyan eLife Connect C1AA            5         400            1   \n",
       "4        Arcadyan eLife Connect C1AA           10         100            0   \n",
       "..                               ...          ...         ...          ...   \n",
       "171  Technicolor MediaAccess DGA4231           50         400            0   \n",
       "172  Technicolor MediaAccess DGA4231           55         100            0   \n",
       "173  Technicolor MediaAccess DGA4231           55         200            0   \n",
       "174  Technicolor MediaAccess DGA4231           55         300            0   \n",
       "175  Technicolor MediaAccess DGA4231           55         400            0   \n",
       "\n",
       "     total_size  call_prob_num_disc  \n",
       "0        138262            0.000087  \n",
       "1         82050            0.000085  \n",
       "2         24278            0.000041  \n",
       "3         14495            0.000069  \n",
       "4          1589            0.000000  \n",
       "..          ...                 ...  \n",
       "171           0                 NaN  \n",
       "172           0                 NaN  \n",
       "173           0                 NaN  \n",
       "174           0                 NaN  \n",
       "175           0                 NaN  \n",
       "\n",
       "[176 rows x 6 columns]"
      ]
     },
     "execution_count": 114,
     "metadata": {},
     "output_type": "execute_result"
    }
   ],
   "source": [
    "step = 5\n",
    "stop = 56\n",
    "bins_num_disc = np.arange(start = 0, stop = stop, step = step)\n",
    "df1['bin_num_disc'] = pd.cut(df1['numDisconnection'], \n",
    "                   bins = bins_num_disc,\n",
    "                   labels = np.arange(step,stop,step))\n",
    "\n",
    "\n",
    "df1_grouped = df1.groupby(['modelName', 'bin_num_disc','bin_max_dur']).aggregate({'ticket_size':'sum','total_size':'sum'}).reset_index()\n",
    "df1_grouped['call_prob_num_disc'] = df1_grouped['ticket_size']/df1_grouped['total_size']\n",
    "df1_grouped\n",
    "\n",
    "      "
   ]
  },
  {
   "cell_type": "code",
   "execution_count": 119,
   "metadata": {},
   "outputs": [
    {
     "name": "stderr",
     "output_type": "stream",
     "text": [
      "No artists with labels found to put in legend.  Note that artists whose label start with an underscore are ignored when legend() is called with no argument.\n"
     ]
    },
    {
     "data": {
      "image/png": "[encoded data removed]",
      "text/plain": [
       "<Figure size 640x480 with 1 Axes>"
      ]
     },
     "metadata": {},
     "output_type": "display_data"
    }
   ],
   "source": [
    "\n",
    "plt.plot(df1_grouped.loc[ (df1_grouped['modelName'] == 'DLink DIR-853/ET') & (df1_grouped['bin_num_disc'] == 10), 'bin_max_dur'],\n",
    "         df1_grouped.loc[ (df1_grouped['modelName'] == 'DLink DIR-853/ET') & (df1_grouped['bin_num_disc'] == 10), 'call_prob_num_disc'])\n",
    "plt.title('DLink DIR-853/ET ')\n",
    "plt.xlabel('max_dur_binnned')\n",
    "plt.ylabel('call_prob')\n",
    "plt.legend()\n",
    "plt.show()"
   ]
  },
  {
   "cell_type": "code",
   "execution_count": null,
   "metadata": {},
   "outputs": [],
   "source": [
    "df1_grouped_num_disc = df1.groupby(['modelName','bin_num_disc']).aggregate({'ticket_size':'sum','total_size':'sum'}).reset_index()\n",
    "df1_grouped_num_disc['call_prob_num_disc'] = df1_grouped_num_disc['ticket_size']/df1_grouped_num_disc['total_size']\n",
    "\n",
    "plt.plot(df1_grouped_num_disc.groupby('modelName').get_group('DLink DIR-853/ET')['bin_num_disc'],\n",
    "         df1_grouped_num_disc.groupby('modelName').get_group('DLink DIR-853/ET')['call_prob_num_disc'])\n",
    "plt.title('DLink DIR-853/ET ')\n",
    "plt.xlabel('num_disc_binnned')\n",
    "plt.ylabel('call_prob')\n",
    "plt.legend()\n",
    "plt.show()"
   ]
  },
  {
   "cell_type": "code",
   "execution_count": null,
   "metadata": {},
   "outputs": [],
   "source": [
    "    df.rename({\"max_intf_score\": \"score\"}, axis=1, inplace=True)\n",
    "    df[\"prob\"] = df[\"ticket_size\"] / df[\"total_size\"]\n",
    "    for interface in [0, 32]:                              \n",
    "        train_X = df[(df[\"interface\"]==interface)][\"score\"]\n",
    "        train_y = df[(df[\"interface\"]==interface)][\"prob\"]\n",
    "        isoR_intscore = isoR.fit(train_X, train_y)\n",
    "        train_prediction = isoR_intscore.predict(train_X)\n",
    "        train_prediction_smoothed = sm.nonparametric.lowess(\n",
    "            train_prediction, train_X, frac=0.3)[:, 1]\n",
    "        df.loc[df[\"interface\"]==interface, \"prob_isoR\"] = train_prediction\n",
    "        df.loc[df[\"interface\"]==interface, \"prob_isoR_smoothed\"] = train_prediction_smoothed\n",
    "    return df"
   ]
  },
  {
   "cell_type": "code",
   "execution_count": null,
   "metadata": {},
   "outputs": [],
   "source": []
  },
  {
   "cell_type": "code",
   "execution_count": null,
   "metadata": {},
   "outputs": [],
   "source": []
  }
 ],
 "metadata": {
  "kernelspec": {
   "display_name": "venv",
   "language": "python",
   "name": "venv"
  },
  "language_info": {
   "codemirror_mode": {
    "name": "ipython",
    "version": 3
   },
   "file_extension": ".py",
   "mimetype": "text/x-python",
   "name": "python",
   "nbconvert_exporter": "python",
   "pygments_lexer": "ipython3",
   "version": "3.9.0"
  },
  "orig_nbformat": 4
 },
 "nbformat": 4,
 "nbformat_minor": 2
}
